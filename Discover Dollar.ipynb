{
 "cells": [
  {
   "cell_type": "markdown",
   "metadata": {},
   "source": [
    "#### Importing all the required Libraries"
   ]
  },
  {
   "cell_type": "code",
   "execution_count": 1,
   "metadata": {},
   "outputs": [],
   "source": [
    "import pandas as pd\n",
    "import numpy as np\n",
    "import matplotlib.pyplot as plt\n",
    "import seaborn as sns"
   ]
  },
  {
   "cell_type": "markdown",
   "metadata": {},
   "source": [
    "#### Importing Data and printing the data type of each column."
   ]
  },
  {
   "cell_type": "code",
   "execution_count": 2,
   "metadata": {},
   "outputs": [
    {
     "data": {
      "text/plain": [
       "name_last         object\n",
       "name_first        object\n",
       "name_middle       object\n",
       "mail_sent_date    object\n",
       "office            object\n",
       "dtype: object"
      ]
     },
     "execution_count": 2,
     "metadata": {},
     "output_type": "execute_result"
    }
   ],
   "source": [
    "email = pd.read_csv(r\"C:\\Users\\wel come\\Emails_sent.csv\")\n",
    "fines = pd.read_csv(r\"C:\\Users\\wel come\\Fines_paid.csv\")\n",
    "#email.head()\n",
    "#fines.head()\n",
    "email.dtypes"
   ]
  },
  {
   "cell_type": "markdown",
   "metadata": {},
   "source": [
    "#### removing leading spaces in mail_sent_date column\n",
    "#### cleaning the mail_sent_date coloumn(removing time values given in some entries along with date)"
   ]
  },
  {
   "cell_type": "code",
   "execution_count": 3,
   "metadata": {},
   "outputs": [
    {
     "data": {
      "text/html": [
       "<div>\n",
       "<style scoped>\n",
       "    .dataframe tbody tr th:only-of-type {\n",
       "        vertical-align: middle;\n",
       "    }\n",
       "\n",
       "    .dataframe tbody tr th {\n",
       "        vertical-align: top;\n",
       "    }\n",
       "\n",
       "    .dataframe thead th {\n",
       "        text-align: right;\n",
       "    }\n",
       "</style>\n",
       "<table border=\"1\" class=\"dataframe\">\n",
       "  <thead>\n",
       "    <tr style=\"text-align: right;\">\n",
       "      <th></th>\n",
       "      <th>name_last</th>\n",
       "      <th>name_first</th>\n",
       "      <th>name_middle</th>\n",
       "      <th>mail_sent_date</th>\n",
       "      <th>office</th>\n",
       "    </tr>\n",
       "  </thead>\n",
       "  <tbody>\n",
       "    <tr>\n",
       "      <th>0</th>\n",
       "      <td>ADELGLASS</td>\n",
       "      <td>JEFFREY</td>\n",
       "      <td>M.</td>\n",
       "      <td>2009-05-22</td>\n",
       "      <td>Center for Drug Evaluation and Research</td>\n",
       "    </tr>\n",
       "    <tr>\n",
       "      <th>1</th>\n",
       "      <td>ADKINSON</td>\n",
       "      <td>N.</td>\n",
       "      <td>FRANKLIN</td>\n",
       "      <td>2010-04-17</td>\n",
       "      <td>Center for Biologics Evaluation and Research</td>\n",
       "    </tr>\n",
       "    <tr>\n",
       "      <th>2</th>\n",
       "      <td>ALLEN</td>\n",
       "      <td>MARK</td>\n",
       "      <td>S.</td>\n",
       "      <td>2012-01-26</td>\n",
       "      <td>Center for Devices and Radiological Health</td>\n",
       "    </tr>\n",
       "    <tr>\n",
       "      <th>3</th>\n",
       "      <td>AMSTERDAM</td>\n",
       "      <td>DANIEL</td>\n",
       "      <td>NaN</td>\n",
       "      <td>2014.11.15</td>\n",
       "      <td>Center for Biologics Evaluation and Research</td>\n",
       "    </tr>\n",
       "    <tr>\n",
       "      <th>4</th>\n",
       "      <td>AMSTUTZ</td>\n",
       "      <td>HARLAN</td>\n",
       "      <td>C.</td>\n",
       "      <td>2014.07.17</td>\n",
       "      <td>Center for Devices and Radiological Health</td>\n",
       "    </tr>\n",
       "  </tbody>\n",
       "</table>\n",
       "</div>"
      ],
      "text/plain": [
       "   name_last name_first name_middle mail_sent_date  \\\n",
       "0  ADELGLASS    JEFFREY          M.     2009-05-22   \n",
       "1   ADKINSON         N.    FRANKLIN     2010-04-17   \n",
       "2      ALLEN       MARK          S.     2012-01-26   \n",
       "3  AMSTERDAM     DANIEL         NaN     2014.11.15   \n",
       "4    AMSTUTZ     HARLAN          C.     2014.07.17   \n",
       "\n",
       "                                         office  \n",
       "0       Center for Drug Evaluation and Research  \n",
       "1  Center for Biologics Evaluation and Research  \n",
       "2    Center for Devices and Radiological Health  \n",
       "3  Center for Biologics Evaluation and Research  \n",
       "4    Center for Devices and Radiological Health  "
      ]
     },
     "execution_count": 3,
     "metadata": {},
     "output_type": "execute_result"
    }
   ],
   "source": [
    "email['mail_sent_date'] = email['mail_sent_date'].str.lstrip()\n",
    "email['mail_sent_date'] = email['mail_sent_date'].str.split(' ').str[0]\n",
    "email.head()"
   ]
  },
  {
   "cell_type": "markdown",
   "metadata": {},
   "source": [
    "#### Ques-(1)- Standardise the mail_sent_date column values to YYYY-MM-DD standard date format?"
   ]
  },
  {
   "cell_type": "code",
   "execution_count": 4,
   "metadata": {},
   "outputs": [
    {
     "data": {
      "text/html": [
       "<div>\n",
       "<style scoped>\n",
       "    .dataframe tbody tr th:only-of-type {\n",
       "        vertical-align: middle;\n",
       "    }\n",
       "\n",
       "    .dataframe tbody tr th {\n",
       "        vertical-align: top;\n",
       "    }\n",
       "\n",
       "    .dataframe thead th {\n",
       "        text-align: right;\n",
       "    }\n",
       "</style>\n",
       "<table border=\"1\" class=\"dataframe\">\n",
       "  <thead>\n",
       "    <tr style=\"text-align: right;\">\n",
       "      <th></th>\n",
       "      <th>name_last</th>\n",
       "      <th>name_first</th>\n",
       "      <th>name_middle</th>\n",
       "      <th>mail_sent_date</th>\n",
       "      <th>office</th>\n",
       "    </tr>\n",
       "  </thead>\n",
       "  <tbody>\n",
       "    <tr>\n",
       "      <th>0</th>\n",
       "      <td>ADELGLASS</td>\n",
       "      <td>JEFFREY</td>\n",
       "      <td>M.</td>\n",
       "      <td>2009-05-22</td>\n",
       "      <td>Center for Drug Evaluation and Research</td>\n",
       "    </tr>\n",
       "    <tr>\n",
       "      <th>1</th>\n",
       "      <td>ADKINSON</td>\n",
       "      <td>N.</td>\n",
       "      <td>FRANKLIN</td>\n",
       "      <td>2010-04-17</td>\n",
       "      <td>Center for Biologics Evaluation and Research</td>\n",
       "    </tr>\n",
       "    <tr>\n",
       "      <th>2</th>\n",
       "      <td>ALLEN</td>\n",
       "      <td>MARK</td>\n",
       "      <td>S.</td>\n",
       "      <td>2012-01-26</td>\n",
       "      <td>Center for Devices and Radiological Health</td>\n",
       "    </tr>\n",
       "    <tr>\n",
       "      <th>3</th>\n",
       "      <td>AMSTERDAM</td>\n",
       "      <td>DANIEL</td>\n",
       "      <td>NaN</td>\n",
       "      <td>2014-11-15</td>\n",
       "      <td>Center for Biologics Evaluation and Research</td>\n",
       "    </tr>\n",
       "    <tr>\n",
       "      <th>4</th>\n",
       "      <td>AMSTUTZ</td>\n",
       "      <td>HARLAN</td>\n",
       "      <td>C.</td>\n",
       "      <td>2014-07-17</td>\n",
       "      <td>Center for Devices and Radiological Health</td>\n",
       "    </tr>\n",
       "    <tr>\n",
       "      <th>5</th>\n",
       "      <td>ANDERSON</td>\n",
       "      <td>C.</td>\n",
       "      <td>JOSEPH</td>\n",
       "      <td>2010-02-22</td>\n",
       "      <td>Center for Devices and Radiological Health</td>\n",
       "    </tr>\n",
       "    <tr>\n",
       "      <th>6</th>\n",
       "      <td>ANDREWS</td>\n",
       "      <td>DAVID</td>\n",
       "      <td>W.</td>\n",
       "      <td>2010-07-17</td>\n",
       "      <td>Center for Biologics Evaluation and Research</td>\n",
       "    </tr>\n",
       "  </tbody>\n",
       "</table>\n",
       "</div>"
      ],
      "text/plain": [
       "   name_last name_first name_middle mail_sent_date  \\\n",
       "0  ADELGLASS    JEFFREY          M.     2009-05-22   \n",
       "1   ADKINSON         N.    FRANKLIN     2010-04-17   \n",
       "2      ALLEN       MARK          S.     2012-01-26   \n",
       "3  AMSTERDAM     DANIEL         NaN     2014-11-15   \n",
       "4    AMSTUTZ     HARLAN          C.     2014-07-17   \n",
       "5   ANDERSON         C.      JOSEPH     2010-02-22   \n",
       "6    ANDREWS      DAVID          W.     2010-07-17   \n",
       "\n",
       "                                         office  \n",
       "0       Center for Drug Evaluation and Research  \n",
       "1  Center for Biologics Evaluation and Research  \n",
       "2    Center for Devices and Radiological Health  \n",
       "3  Center for Biologics Evaluation and Research  \n",
       "4    Center for Devices and Radiological Health  \n",
       "5    Center for Devices and Radiological Health  \n",
       "6  Center for Biologics Evaluation and Research  "
      ]
     },
     "execution_count": 4,
     "metadata": {},
     "output_type": "execute_result"
    }
   ],
   "source": [
    "\n",
    "email['mail_sent_date'] = pd.to_datetime(email['mail_sent_date'], format='%Y/%m/%d')\n",
    "email.head(7)"
   ]
  },
  {
   "cell_type": "markdown",
   "metadata": {},
   "source": [
    "#### Ques(2)- Count the number of mails sent each year?"
   ]
  },
  {
   "cell_type": "code",
   "execution_count": 5,
   "metadata": {},
   "outputs": [
    {
     "data": {
      "text/plain": [
       "2014    32\n",
       "2015    31\n",
       "2019    25\n",
       "2016    25\n",
       "2010    25\n",
       "2018    23\n",
       "2013    21\n",
       "2011    20\n",
       "2012    16\n",
       "2007    15\n",
       "2009    14\n",
       "2017    11\n",
       "2008     8\n",
       "2020     5\n",
       "2006     1\n",
       "Name: mail_sent_date, dtype: int64"
      ]
     },
     "execution_count": 5,
     "metadata": {},
     "output_type": "execute_result"
    }
   ],
   "source": [
    "year = email['mail_sent_date'].dt.year\n",
    "year_count = email['mail_sent_date'].dt.year.value_counts()\n",
    "year_count"
   ]
  },
  {
   "cell_type": "markdown",
   "metadata": {},
   "source": [
    "#### Plot the above results"
   ]
  },
  {
   "cell_type": "code",
   "execution_count": 6,
   "metadata": {},
   "outputs": [
    {
     "data": {
      "text/plain": [
       "Text(0, 0.5, 'Count')"
      ]
     },
     "execution_count": 6,
     "metadata": {},
     "output_type": "execute_result"
    },
    {
     "data": {
      "image/png": "[encoded data removed]",
      "text/plain": [
       "<Figure size 720x360 with 1 Axes>"
      ]
     },
     "metadata": {
      "needs_background": "light"
     },
     "output_type": "display_data"
    }
   ],
   "source": [
    "plt.figure(figsize=(10,5))\n",
    "sns.countplot(x= year, data=email, color = 'c')\n",
    "plt.xlabel('Year')\n",
    "plt.ylabel('Count')"
   ]
  },
  {
   "cell_type": "code",
   "execution_count": 7,
   "metadata": {},
   "outputs": [
    {
     "data": {
      "text/html": [
       "<div>\n",
       "<style scoped>\n",
       "    .dataframe tbody tr th:only-of-type {\n",
       "        vertical-align: middle;\n",
       "    }\n",
       "\n",
       "    .dataframe tbody tr th {\n",
       "        vertical-align: top;\n",
       "    }\n",
       "\n",
       "    .dataframe thead th {\n",
       "        text-align: right;\n",
       "    }\n",
       "</style>\n",
       "<table border=\"1\" class=\"dataframe\">\n",
       "  <thead>\n",
       "    <tr style=\"text-align: right;\">\n",
       "      <th></th>\n",
       "      <th>org_indiv</th>\n",
       "      <th>first_name</th>\n",
       "      <th>last_name</th>\n",
       "      <th>city</th>\n",
       "      <th>state</th>\n",
       "      <th>category</th>\n",
       "      <th>cash_fine</th>\n",
       "      <th>online_fine</th>\n",
       "    </tr>\n",
       "  </thead>\n",
       "  <tbody>\n",
       "    <tr>\n",
       "      <th>0</th>\n",
       "      <td>3-D MEDICAL SERVICES LLC</td>\n",
       "      <td>STEVEN</td>\n",
       "      <td>DEITELZWEIG</td>\n",
       "      <td>NEW ORLEANS</td>\n",
       "      <td>LA</td>\n",
       "      <td>Professional Advising</td>\n",
       "      <td>$2,625.00</td>\n",
       "      <td>$-</td>\n",
       "    </tr>\n",
       "    <tr>\n",
       "      <th>1</th>\n",
       "      <td>AA DOCTORS, INC.</td>\n",
       "      <td>AAKASH</td>\n",
       "      <td>AHUJA</td>\n",
       "      <td>PASO ROBLES</td>\n",
       "      <td>CA</td>\n",
       "      <td>Expert-Led Forums</td>\n",
       "      <td>$1,000.00</td>\n",
       "      <td>$-</td>\n",
       "    </tr>\n",
       "    <tr>\n",
       "      <th>2</th>\n",
       "      <td>ABBO, LILIAN MARGARITA</td>\n",
       "      <td>LILIAN</td>\n",
       "      <td>ABBO</td>\n",
       "      <td>MIAMI</td>\n",
       "      <td>FL</td>\n",
       "      <td>Business Related Travel</td>\n",
       "      <td>$-</td>\n",
       "      <td>$448.00</td>\n",
       "    </tr>\n",
       "    <tr>\n",
       "      <th>3</th>\n",
       "      <td>ABBO, LILIAN MARGARITA</td>\n",
       "      <td>LILIAN</td>\n",
       "      <td>ABBO</td>\n",
       "      <td>MIAMI</td>\n",
       "      <td>FL</td>\n",
       "      <td>Meals</td>\n",
       "      <td>$-</td>\n",
       "      <td>$119.00</td>\n",
       "    </tr>\n",
       "    <tr>\n",
       "      <th>4</th>\n",
       "      <td>ABBO, LILIAN MARGARITA</td>\n",
       "      <td>LILIAN</td>\n",
       "      <td>ABBO</td>\n",
       "      <td>MIAMI</td>\n",
       "      <td>FL</td>\n",
       "      <td>Professional Advising</td>\n",
       "      <td>$1,800.00</td>\n",
       "      <td>$-</td>\n",
       "    </tr>\n",
       "  </tbody>\n",
       "</table>\n",
       "</div>"
      ],
      "text/plain": [
       "                  org_indiv first_name    last_name         city state  \\\n",
       "0  3-D MEDICAL SERVICES LLC     STEVEN  DEITELZWEIG  NEW ORLEANS    LA   \n",
       "1          AA DOCTORS, INC.     AAKASH        AHUJA  PASO ROBLES    CA   \n",
       "2    ABBO, LILIAN MARGARITA     LILIAN         ABBO        MIAMI    FL   \n",
       "3    ABBO, LILIAN MARGARITA     LILIAN         ABBO        MIAMI    FL   \n",
       "4    ABBO, LILIAN MARGARITA     LILIAN         ABBO        MIAMI    FL   \n",
       "\n",
       "                  category  cash_fine  online_fine   \n",
       "0    Professional Advising  $2,625.00         $-     \n",
       "1        Expert-Led Forums  $1,000.00         $-     \n",
       "2  Business Related Travel       $-        $448.00   \n",
       "3                    Meals       $-        $119.00   \n",
       "4    Professional Advising  $1,800.00         $-     "
      ]
     },
     "execution_count": 7,
     "metadata": {},
     "output_type": "execute_result"
    }
   ],
   "source": [
    "fines.head()"
   ]
  },
  {
   "cell_type": "code",
   "execution_count": 8,
   "metadata": {},
   "outputs": [
    {
     "data": {
      "text/plain": [
       "org_indiv       object\n",
       "first_name      object\n",
       "last_name       object\n",
       "city            object\n",
       "state           object\n",
       "category        object\n",
       "cash_fine       object\n",
       "online_fine     object\n",
       "dtype: object"
      ]
     },
     "execution_count": 8,
     "metadata": {},
     "output_type": "execute_result"
    }
   ],
   "source": [
    "fines.dtypes"
   ]
  },
  {
   "cell_type": "markdown",
   "metadata": {},
   "source": [
    "#### Cleaning and making ready fine columns to be added\n",
    "#### step-1 removing dollar sign"
   ]
  },
  {
   "cell_type": "code",
   "execution_count": 9,
   "metadata": {},
   "outputs": [
    {
     "data": {
      "text/html": [
       "<div>\n",
       "<style scoped>\n",
       "    .dataframe tbody tr th:only-of-type {\n",
       "        vertical-align: middle;\n",
       "    }\n",
       "\n",
       "    .dataframe tbody tr th {\n",
       "        vertical-align: top;\n",
       "    }\n",
       "\n",
       "    .dataframe thead th {\n",
       "        text-align: right;\n",
       "    }\n",
       "</style>\n",
       "<table border=\"1\" class=\"dataframe\">\n",
       "  <thead>\n",
       "    <tr style=\"text-align: right;\">\n",
       "      <th></th>\n",
       "      <th>org_indiv</th>\n",
       "      <th>first_name</th>\n",
       "      <th>last_name</th>\n",
       "      <th>city</th>\n",
       "      <th>state</th>\n",
       "      <th>category</th>\n",
       "      <th>cash_fine</th>\n",
       "      <th>online_fine</th>\n",
       "    </tr>\n",
       "  </thead>\n",
       "  <tbody>\n",
       "    <tr>\n",
       "      <th>0</th>\n",
       "      <td>3-D MEDICAL SERVICES LLC</td>\n",
       "      <td>STEVEN</td>\n",
       "      <td>DEITELZWEIG</td>\n",
       "      <td>NEW ORLEANS</td>\n",
       "      <td>LA</td>\n",
       "      <td>Professional Advising</td>\n",
       "      <td>$2,625.00</td>\n",
       "      <td>-</td>\n",
       "    </tr>\n",
       "    <tr>\n",
       "      <th>1</th>\n",
       "      <td>AA DOCTORS, INC.</td>\n",
       "      <td>AAKASH</td>\n",
       "      <td>AHUJA</td>\n",
       "      <td>PASO ROBLES</td>\n",
       "      <td>CA</td>\n",
       "      <td>Expert-Led Forums</td>\n",
       "      <td>$1,000.00</td>\n",
       "      <td>-</td>\n",
       "    </tr>\n",
       "    <tr>\n",
       "      <th>2</th>\n",
       "      <td>ABBO, LILIAN MARGARITA</td>\n",
       "      <td>LILIAN</td>\n",
       "      <td>ABBO</td>\n",
       "      <td>MIAMI</td>\n",
       "      <td>FL</td>\n",
       "      <td>Business Related Travel</td>\n",
       "      <td>$-</td>\n",
       "      <td>448.00</td>\n",
       "    </tr>\n",
       "    <tr>\n",
       "      <th>3</th>\n",
       "      <td>ABBO, LILIAN MARGARITA</td>\n",
       "      <td>LILIAN</td>\n",
       "      <td>ABBO</td>\n",
       "      <td>MIAMI</td>\n",
       "      <td>FL</td>\n",
       "      <td>Meals</td>\n",
       "      <td>$-</td>\n",
       "      <td>119.00</td>\n",
       "    </tr>\n",
       "    <tr>\n",
       "      <th>4</th>\n",
       "      <td>ABBO, LILIAN MARGARITA</td>\n",
       "      <td>LILIAN</td>\n",
       "      <td>ABBO</td>\n",
       "      <td>MIAMI</td>\n",
       "      <td>FL</td>\n",
       "      <td>Professional Advising</td>\n",
       "      <td>$1,800.00</td>\n",
       "      <td>-</td>\n",
       "    </tr>\n",
       "  </tbody>\n",
       "</table>\n",
       "</div>"
      ],
      "text/plain": [
       "                  org_indiv first_name    last_name         city state  \\\n",
       "0  3-D MEDICAL SERVICES LLC     STEVEN  DEITELZWEIG  NEW ORLEANS    LA   \n",
       "1          AA DOCTORS, INC.     AAKASH        AHUJA  PASO ROBLES    CA   \n",
       "2    ABBO, LILIAN MARGARITA     LILIAN         ABBO        MIAMI    FL   \n",
       "3    ABBO, LILIAN MARGARITA     LILIAN         ABBO        MIAMI    FL   \n",
       "4    ABBO, LILIAN MARGARITA     LILIAN         ABBO        MIAMI    FL   \n",
       "\n",
       "                  category  cash_fine  online_fine   \n",
       "0    Professional Advising  $2,625.00             -  \n",
       "1        Expert-Led Forums  $1,000.00             -  \n",
       "2  Business Related Travel       $-          448.00  \n",
       "3                    Meals       $-          119.00  \n",
       "4    Professional Advising  $1,800.00             -  "
      ]
     },
     "execution_count": 9,
     "metadata": {},
     "output_type": "execute_result"
    }
   ],
   "source": [
    "fines['online_fine '] = fines['online_fine '].str.strip()\n",
    "fines['online_fine '] = fines['online_fine '].str.split('$').str[1]\n",
    "fines.head()"
   ]
  },
  {
   "cell_type": "markdown",
   "metadata": {},
   "source": [
    "#### Cleaning and making ready fine columns to be added\n",
    "#### step-1 removing dollar sign"
   ]
  },
  {
   "cell_type": "code",
   "execution_count": 10,
   "metadata": {},
   "outputs": [
    {
     "data": {
      "text/plain": [
       "0    2,625.00\n",
       "1    1,000.00\n",
       "2           -\n",
       "3           -\n",
       "4    1,800.00\n",
       "Name: cash_fine , dtype: object"
      ]
     },
     "execution_count": 10,
     "metadata": {},
     "output_type": "execute_result"
    }
   ],
   "source": [
    "fines['cash_fine '] = fines['cash_fine '].str.strip()\n",
    "fines['cash_fine '] = fines['cash_fine '].str.split('$').str[1]\n",
    "fines['cash_fine '].head()"
   ]
  },
  {
   "cell_type": "markdown",
   "metadata": {},
   "source": [
    "#### Cleaning and making ready fine columns to be added\n",
    "#### step-2 removing - sign and replacing with 0"
   ]
  },
  {
   "cell_type": "code",
   "execution_count": 11,
   "metadata": {},
   "outputs": [
    {
     "data": {
      "text/html": [
       "<div>\n",
       "<style scoped>\n",
       "    .dataframe tbody tr th:only-of-type {\n",
       "        vertical-align: middle;\n",
       "    }\n",
       "\n",
       "    .dataframe tbody tr th {\n",
       "        vertical-align: top;\n",
       "    }\n",
       "\n",
       "    .dataframe thead th {\n",
       "        text-align: right;\n",
       "    }\n",
       "</style>\n",
       "<table border=\"1\" class=\"dataframe\">\n",
       "  <thead>\n",
       "    <tr style=\"text-align: right;\">\n",
       "      <th></th>\n",
       "      <th>org_indiv</th>\n",
       "      <th>first_name</th>\n",
       "      <th>last_name</th>\n",
       "      <th>city</th>\n",
       "      <th>state</th>\n",
       "      <th>category</th>\n",
       "      <th>cash_fine</th>\n",
       "      <th>online_fine</th>\n",
       "    </tr>\n",
       "  </thead>\n",
       "  <tbody>\n",
       "    <tr>\n",
       "      <th>0</th>\n",
       "      <td>3-D MEDICAL SERVICES LLC</td>\n",
       "      <td>STEVEN</td>\n",
       "      <td>DEITELZWEIG</td>\n",
       "      <td>NEW ORLEANS</td>\n",
       "      <td>LA</td>\n",
       "      <td>Professional Advising</td>\n",
       "      <td>2,625.00</td>\n",
       "      <td>0</td>\n",
       "    </tr>\n",
       "    <tr>\n",
       "      <th>1</th>\n",
       "      <td>AA DOCTORS, INC.</td>\n",
       "      <td>AAKASH</td>\n",
       "      <td>AHUJA</td>\n",
       "      <td>PASO ROBLES</td>\n",
       "      <td>CA</td>\n",
       "      <td>Expert-Led Forums</td>\n",
       "      <td>1,000.00</td>\n",
       "      <td>0</td>\n",
       "    </tr>\n",
       "    <tr>\n",
       "      <th>2</th>\n",
       "      <td>ABBO, LILIAN MARGARITA</td>\n",
       "      <td>LILIAN</td>\n",
       "      <td>ABBO</td>\n",
       "      <td>MIAMI</td>\n",
       "      <td>FL</td>\n",
       "      <td>Business Related Travel</td>\n",
       "      <td>0</td>\n",
       "      <td>448.00</td>\n",
       "    </tr>\n",
       "    <tr>\n",
       "      <th>3</th>\n",
       "      <td>ABBO, LILIAN MARGARITA</td>\n",
       "      <td>LILIAN</td>\n",
       "      <td>ABBO</td>\n",
       "      <td>MIAMI</td>\n",
       "      <td>FL</td>\n",
       "      <td>Meals</td>\n",
       "      <td>0</td>\n",
       "      <td>119.00</td>\n",
       "    </tr>\n",
       "    <tr>\n",
       "      <th>4</th>\n",
       "      <td>ABBO, LILIAN MARGARITA</td>\n",
       "      <td>LILIAN</td>\n",
       "      <td>ABBO</td>\n",
       "      <td>MIAMI</td>\n",
       "      <td>FL</td>\n",
       "      <td>Professional Advising</td>\n",
       "      <td>1,800.00</td>\n",
       "      <td>0</td>\n",
       "    </tr>\n",
       "  </tbody>\n",
       "</table>\n",
       "</div>"
      ],
      "text/plain": [
       "                  org_indiv first_name    last_name         city state  \\\n",
       "0  3-D MEDICAL SERVICES LLC     STEVEN  DEITELZWEIG  NEW ORLEANS    LA   \n",
       "1          AA DOCTORS, INC.     AAKASH        AHUJA  PASO ROBLES    CA   \n",
       "2    ABBO, LILIAN MARGARITA     LILIAN         ABBO        MIAMI    FL   \n",
       "3    ABBO, LILIAN MARGARITA     LILIAN         ABBO        MIAMI    FL   \n",
       "4    ABBO, LILIAN MARGARITA     LILIAN         ABBO        MIAMI    FL   \n",
       "\n",
       "                  category cash_fine  online_fine   \n",
       "0    Professional Advising   2,625.00            0  \n",
       "1        Expert-Led Forums   1,000.00            0  \n",
       "2  Business Related Travel          0       448.00  \n",
       "3                    Meals          0       119.00  \n",
       "4    Professional Advising   1,800.00            0  "
      ]
     },
     "execution_count": 11,
     "metadata": {},
     "output_type": "execute_result"
    }
   ],
   "source": [
    "fines['online_fine '] = fines['online_fine '].replace('-',0.00)\n",
    "fines['cash_fine '] = fines['cash_fine '].replace('-',0.00)\n",
    "fines.head()"
   ]
  },
  {
   "cell_type": "markdown",
   "metadata": {},
   "source": [
    "#### Cleaning and making ready fine columns to be added\n",
    "#### step-3 removing ',' signs from numbers"
   ]
  },
  {
   "cell_type": "code",
   "execution_count": 12,
   "metadata": {},
   "outputs": [
    {
     "data": {
      "text/html": [
       "<div>\n",
       "<style scoped>\n",
       "    .dataframe tbody tr th:only-of-type {\n",
       "        vertical-align: middle;\n",
       "    }\n",
       "\n",
       "    .dataframe tbody tr th {\n",
       "        vertical-align: top;\n",
       "    }\n",
       "\n",
       "    .dataframe thead th {\n",
       "        text-align: right;\n",
       "    }\n",
       "</style>\n",
       "<table border=\"1\" class=\"dataframe\">\n",
       "  <thead>\n",
       "    <tr style=\"text-align: right;\">\n",
       "      <th></th>\n",
       "      <th>org_indiv</th>\n",
       "      <th>first_name</th>\n",
       "      <th>last_name</th>\n",
       "      <th>city</th>\n",
       "      <th>state</th>\n",
       "      <th>category</th>\n",
       "      <th>cash_fine</th>\n",
       "      <th>online_fine</th>\n",
       "    </tr>\n",
       "  </thead>\n",
       "  <tbody>\n",
       "    <tr>\n",
       "      <th>0</th>\n",
       "      <td>3-D MEDICAL SERVICES LLC</td>\n",
       "      <td>STEVEN</td>\n",
       "      <td>DEITELZWEIG</td>\n",
       "      <td>NEW ORLEANS</td>\n",
       "      <td>LA</td>\n",
       "      <td>Professional Advising</td>\n",
       "      <td>2625.00</td>\n",
       "      <td>NaN</td>\n",
       "    </tr>\n",
       "    <tr>\n",
       "      <th>1</th>\n",
       "      <td>AA DOCTORS, INC.</td>\n",
       "      <td>AAKASH</td>\n",
       "      <td>AHUJA</td>\n",
       "      <td>PASO ROBLES</td>\n",
       "      <td>CA</td>\n",
       "      <td>Expert-Led Forums</td>\n",
       "      <td>1000.00</td>\n",
       "      <td>NaN</td>\n",
       "    </tr>\n",
       "    <tr>\n",
       "      <th>2</th>\n",
       "      <td>ABBO, LILIAN MARGARITA</td>\n",
       "      <td>LILIAN</td>\n",
       "      <td>ABBO</td>\n",
       "      <td>MIAMI</td>\n",
       "      <td>FL</td>\n",
       "      <td>Business Related Travel</td>\n",
       "      <td>NaN</td>\n",
       "      <td>448.00</td>\n",
       "    </tr>\n",
       "    <tr>\n",
       "      <th>3</th>\n",
       "      <td>ABBO, LILIAN MARGARITA</td>\n",
       "      <td>LILIAN</td>\n",
       "      <td>ABBO</td>\n",
       "      <td>MIAMI</td>\n",
       "      <td>FL</td>\n",
       "      <td>Meals</td>\n",
       "      <td>NaN</td>\n",
       "      <td>119.00</td>\n",
       "    </tr>\n",
       "    <tr>\n",
       "      <th>4</th>\n",
       "      <td>ABBO, LILIAN MARGARITA</td>\n",
       "      <td>LILIAN</td>\n",
       "      <td>ABBO</td>\n",
       "      <td>MIAMI</td>\n",
       "      <td>FL</td>\n",
       "      <td>Professional Advising</td>\n",
       "      <td>1800.00</td>\n",
       "      <td>NaN</td>\n",
       "    </tr>\n",
       "  </tbody>\n",
       "</table>\n",
       "</div>"
      ],
      "text/plain": [
       "                  org_indiv first_name    last_name         city state  \\\n",
       "0  3-D MEDICAL SERVICES LLC     STEVEN  DEITELZWEIG  NEW ORLEANS    LA   \n",
       "1          AA DOCTORS, INC.     AAKASH        AHUJA  PASO ROBLES    CA   \n",
       "2    ABBO, LILIAN MARGARITA     LILIAN         ABBO        MIAMI    FL   \n",
       "3    ABBO, LILIAN MARGARITA     LILIAN         ABBO        MIAMI    FL   \n",
       "4    ABBO, LILIAN MARGARITA     LILIAN         ABBO        MIAMI    FL   \n",
       "\n",
       "                  category cash_fine  online_fine   \n",
       "0    Professional Advising    2625.00          NaN  \n",
       "1        Expert-Led Forums    1000.00          NaN  \n",
       "2  Business Related Travel        NaN       448.00  \n",
       "3                    Meals        NaN       119.00  \n",
       "4    Professional Advising    1800.00          NaN  "
      ]
     },
     "execution_count": 12,
     "metadata": {},
     "output_type": "execute_result"
    }
   ],
   "source": [
    "fines['online_fine '] = fines['online_fine '].str.replace(',','')\n",
    "fines['cash_fine '] = fines['cash_fine '].str.replace(',','')\n",
    "fines.head()"
   ]
  },
  {
   "cell_type": "markdown",
   "metadata": {},
   "source": [
    "#### Cleaning and making ready fine columns to be added\n",
    "#### step-4 replacing nan values with 0"
   ]
  },
  {
   "cell_type": "code",
   "execution_count": 13,
   "metadata": {},
   "outputs": [
    {
     "data": {
      "text/html": [
       "<div>\n",
       "<style scoped>\n",
       "    .dataframe tbody tr th:only-of-type {\n",
       "        vertical-align: middle;\n",
       "    }\n",
       "\n",
       "    .dataframe tbody tr th {\n",
       "        vertical-align: top;\n",
       "    }\n",
       "\n",
       "    .dataframe thead th {\n",
       "        text-align: right;\n",
       "    }\n",
       "</style>\n",
       "<table border=\"1\" class=\"dataframe\">\n",
       "  <thead>\n",
       "    <tr style=\"text-align: right;\">\n",
       "      <th></th>\n",
       "      <th>org_indiv</th>\n",
       "      <th>first_name</th>\n",
       "      <th>last_name</th>\n",
       "      <th>city</th>\n",
       "      <th>state</th>\n",
       "      <th>category</th>\n",
       "      <th>cash_fine</th>\n",
       "      <th>online_fine</th>\n",
       "    </tr>\n",
       "  </thead>\n",
       "  <tbody>\n",
       "    <tr>\n",
       "      <th>0</th>\n",
       "      <td>3-D MEDICAL SERVICES LLC</td>\n",
       "      <td>STEVEN</td>\n",
       "      <td>DEITELZWEIG</td>\n",
       "      <td>NEW ORLEANS</td>\n",
       "      <td>LA</td>\n",
       "      <td>Professional Advising</td>\n",
       "      <td>2625.00</td>\n",
       "      <td>0</td>\n",
       "    </tr>\n",
       "    <tr>\n",
       "      <th>1</th>\n",
       "      <td>AA DOCTORS, INC.</td>\n",
       "      <td>AAKASH</td>\n",
       "      <td>AHUJA</td>\n",
       "      <td>PASO ROBLES</td>\n",
       "      <td>CA</td>\n",
       "      <td>Expert-Led Forums</td>\n",
       "      <td>1000.00</td>\n",
       "      <td>0</td>\n",
       "    </tr>\n",
       "    <tr>\n",
       "      <th>2</th>\n",
       "      <td>ABBO, LILIAN MARGARITA</td>\n",
       "      <td>LILIAN</td>\n",
       "      <td>ABBO</td>\n",
       "      <td>MIAMI</td>\n",
       "      <td>FL</td>\n",
       "      <td>Business Related Travel</td>\n",
       "      <td>0</td>\n",
       "      <td>448.00</td>\n",
       "    </tr>\n",
       "    <tr>\n",
       "      <th>3</th>\n",
       "      <td>ABBO, LILIAN MARGARITA</td>\n",
       "      <td>LILIAN</td>\n",
       "      <td>ABBO</td>\n",
       "      <td>MIAMI</td>\n",
       "      <td>FL</td>\n",
       "      <td>Meals</td>\n",
       "      <td>0</td>\n",
       "      <td>119.00</td>\n",
       "    </tr>\n",
       "    <tr>\n",
       "      <th>4</th>\n",
       "      <td>ABBO, LILIAN MARGARITA</td>\n",
       "      <td>LILIAN</td>\n",
       "      <td>ABBO</td>\n",
       "      <td>MIAMI</td>\n",
       "      <td>FL</td>\n",
       "      <td>Professional Advising</td>\n",
       "      <td>1800.00</td>\n",
       "      <td>0</td>\n",
       "    </tr>\n",
       "  </tbody>\n",
       "</table>\n",
       "</div>"
      ],
      "text/plain": [
       "                  org_indiv first_name    last_name         city state  \\\n",
       "0  3-D MEDICAL SERVICES LLC     STEVEN  DEITELZWEIG  NEW ORLEANS    LA   \n",
       "1          AA DOCTORS, INC.     AAKASH        AHUJA  PASO ROBLES    CA   \n",
       "2    ABBO, LILIAN MARGARITA     LILIAN         ABBO        MIAMI    FL   \n",
       "3    ABBO, LILIAN MARGARITA     LILIAN         ABBO        MIAMI    FL   \n",
       "4    ABBO, LILIAN MARGARITA     LILIAN         ABBO        MIAMI    FL   \n",
       "\n",
       "                  category cash_fine  online_fine   \n",
       "0    Professional Advising    2625.00            0  \n",
       "1        Expert-Led Forums    1000.00            0  \n",
       "2  Business Related Travel          0       448.00  \n",
       "3                    Meals          0       119.00  \n",
       "4    Professional Advising    1800.00            0  "
      ]
     },
     "execution_count": 13,
     "metadata": {},
     "output_type": "execute_result"
    }
   ],
   "source": [
    "fines['online_fine '] = fines['online_fine '].fillna(0)\n",
    "fines['cash_fine '] = fines['cash_fine '].fillna(0)\n",
    "fines.head()"
   ]
  },
  {
   "cell_type": "markdown",
   "metadata": {},
   "source": [
    "#### Cleaning and making ready fine columns to be added"
   ]
  },
  {
   "cell_type": "code",
   "execution_count": 14,
   "metadata": {},
   "outputs": [
    {
     "data": {
      "text/plain": [
       "<class 'int'>    5424\n",
       "<class 'str'>    4663\n",
       "Name: cash_fine , dtype: int64"
      ]
     },
     "execution_count": 14,
     "metadata": {},
     "output_type": "execute_result"
    }
   ],
   "source": [
    "#fines['online_fine '].apply(type).value_counts()\n",
    "fines['cash_fine '].apply(type).value_counts()"
   ]
  },
  {
   "cell_type": "markdown",
   "metadata": {},
   "source": [
    "#### Cleaning and making ready fine columns to be added\n",
    "#### step-5 Converting both colomuns to numeric datatype"
   ]
  },
  {
   "cell_type": "code",
   "execution_count": 15,
   "metadata": {},
   "outputs": [
    {
     "data": {
      "text/html": [
       "<div>\n",
       "<style scoped>\n",
       "    .dataframe tbody tr th:only-of-type {\n",
       "        vertical-align: middle;\n",
       "    }\n",
       "\n",
       "    .dataframe tbody tr th {\n",
       "        vertical-align: top;\n",
       "    }\n",
       "\n",
       "    .dataframe thead th {\n",
       "        text-align: right;\n",
       "    }\n",
       "</style>\n",
       "<table border=\"1\" class=\"dataframe\">\n",
       "  <thead>\n",
       "    <tr style=\"text-align: right;\">\n",
       "      <th></th>\n",
       "      <th>org_indiv</th>\n",
       "      <th>first_name</th>\n",
       "      <th>last_name</th>\n",
       "      <th>city</th>\n",
       "      <th>state</th>\n",
       "      <th>category</th>\n",
       "      <th>cash_fine</th>\n",
       "      <th>online_fine</th>\n",
       "    </tr>\n",
       "  </thead>\n",
       "  <tbody>\n",
       "    <tr>\n",
       "      <th>0</th>\n",
       "      <td>3-D MEDICAL SERVICES LLC</td>\n",
       "      <td>STEVEN</td>\n",
       "      <td>DEITELZWEIG</td>\n",
       "      <td>NEW ORLEANS</td>\n",
       "      <td>LA</td>\n",
       "      <td>Professional Advising</td>\n",
       "      <td>2625.0</td>\n",
       "      <td>0.0</td>\n",
       "    </tr>\n",
       "    <tr>\n",
       "      <th>1</th>\n",
       "      <td>AA DOCTORS, INC.</td>\n",
       "      <td>AAKASH</td>\n",
       "      <td>AHUJA</td>\n",
       "      <td>PASO ROBLES</td>\n",
       "      <td>CA</td>\n",
       "      <td>Expert-Led Forums</td>\n",
       "      <td>1000.0</td>\n",
       "      <td>0.0</td>\n",
       "    </tr>\n",
       "    <tr>\n",
       "      <th>2</th>\n",
       "      <td>ABBO, LILIAN MARGARITA</td>\n",
       "      <td>LILIAN</td>\n",
       "      <td>ABBO</td>\n",
       "      <td>MIAMI</td>\n",
       "      <td>FL</td>\n",
       "      <td>Business Related Travel</td>\n",
       "      <td>0.0</td>\n",
       "      <td>448.0</td>\n",
       "    </tr>\n",
       "    <tr>\n",
       "      <th>3</th>\n",
       "      <td>ABBO, LILIAN MARGARITA</td>\n",
       "      <td>LILIAN</td>\n",
       "      <td>ABBO</td>\n",
       "      <td>MIAMI</td>\n",
       "      <td>FL</td>\n",
       "      <td>Meals</td>\n",
       "      <td>0.0</td>\n",
       "      <td>119.0</td>\n",
       "    </tr>\n",
       "    <tr>\n",
       "      <th>4</th>\n",
       "      <td>ABBO, LILIAN MARGARITA</td>\n",
       "      <td>LILIAN</td>\n",
       "      <td>ABBO</td>\n",
       "      <td>MIAMI</td>\n",
       "      <td>FL</td>\n",
       "      <td>Professional Advising</td>\n",
       "      <td>1800.0</td>\n",
       "      <td>0.0</td>\n",
       "    </tr>\n",
       "  </tbody>\n",
       "</table>\n",
       "</div>"
      ],
      "text/plain": [
       "                  org_indiv first_name    last_name         city state  \\\n",
       "0  3-D MEDICAL SERVICES LLC     STEVEN  DEITELZWEIG  NEW ORLEANS    LA   \n",
       "1          AA DOCTORS, INC.     AAKASH        AHUJA  PASO ROBLES    CA   \n",
       "2    ABBO, LILIAN MARGARITA     LILIAN         ABBO        MIAMI    FL   \n",
       "3    ABBO, LILIAN MARGARITA     LILIAN         ABBO        MIAMI    FL   \n",
       "4    ABBO, LILIAN MARGARITA     LILIAN         ABBO        MIAMI    FL   \n",
       "\n",
       "                  category  cash_fine   online_fine   \n",
       "0    Professional Advising      2625.0           0.0  \n",
       "1        Expert-Led Forums      1000.0           0.0  \n",
       "2  Business Related Travel         0.0         448.0  \n",
       "3                    Meals         0.0         119.0  \n",
       "4    Professional Advising      1800.0           0.0  "
      ]
     },
     "execution_count": 15,
     "metadata": {},
     "output_type": "execute_result"
    }
   ],
   "source": [
    "fines['online_fine '] = pd.to_numeric(fines['online_fine '])\n",
    "fines['cash_fine '] = pd.to_numeric(fines['cash_fine '])\n",
    "fines.head()"
   ]
  },
  {
   "cell_type": "markdown",
   "metadata": {},
   "source": [
    "#### sum 'cash_fine' and 'online_fine' to create a new column named 'total_fine'"
   ]
  },
  {
   "cell_type": "code",
   "execution_count": 16,
   "metadata": {},
   "outputs": [
    {
     "data": {
      "text/html": [
       "<div>\n",
       "<style scoped>\n",
       "    .dataframe tbody tr th:only-of-type {\n",
       "        vertical-align: middle;\n",
       "    }\n",
       "\n",
       "    .dataframe tbody tr th {\n",
       "        vertical-align: top;\n",
       "    }\n",
       "\n",
       "    .dataframe thead th {\n",
       "        text-align: right;\n",
       "    }\n",
       "</style>\n",
       "<table border=\"1\" class=\"dataframe\">\n",
       "  <thead>\n",
       "    <tr style=\"text-align: right;\">\n",
       "      <th></th>\n",
       "      <th>org_indiv</th>\n",
       "      <th>first_name</th>\n",
       "      <th>last_name</th>\n",
       "      <th>city</th>\n",
       "      <th>state</th>\n",
       "      <th>category</th>\n",
       "      <th>cash_fine</th>\n",
       "      <th>online_fine</th>\n",
       "      <th>total_fine</th>\n",
       "    </tr>\n",
       "  </thead>\n",
       "  <tbody>\n",
       "    <tr>\n",
       "      <th>0</th>\n",
       "      <td>3-D MEDICAL SERVICES LLC</td>\n",
       "      <td>STEVEN</td>\n",
       "      <td>DEITELZWEIG</td>\n",
       "      <td>NEW ORLEANS</td>\n",
       "      <td>LA</td>\n",
       "      <td>Professional Advising</td>\n",
       "      <td>2625.0</td>\n",
       "      <td>0.0</td>\n",
       "      <td>2625.0</td>\n",
       "    </tr>\n",
       "    <tr>\n",
       "      <th>1</th>\n",
       "      <td>AA DOCTORS, INC.</td>\n",
       "      <td>AAKASH</td>\n",
       "      <td>AHUJA</td>\n",
       "      <td>PASO ROBLES</td>\n",
       "      <td>CA</td>\n",
       "      <td>Expert-Led Forums</td>\n",
       "      <td>1000.0</td>\n",
       "      <td>0.0</td>\n",
       "      <td>1000.0</td>\n",
       "    </tr>\n",
       "    <tr>\n",
       "      <th>2</th>\n",
       "      <td>ABBO, LILIAN MARGARITA</td>\n",
       "      <td>LILIAN</td>\n",
       "      <td>ABBO</td>\n",
       "      <td>MIAMI</td>\n",
       "      <td>FL</td>\n",
       "      <td>Business Related Travel</td>\n",
       "      <td>0.0</td>\n",
       "      <td>448.0</td>\n",
       "      <td>448.0</td>\n",
       "    </tr>\n",
       "    <tr>\n",
       "      <th>3</th>\n",
       "      <td>ABBO, LILIAN MARGARITA</td>\n",
       "      <td>LILIAN</td>\n",
       "      <td>ABBO</td>\n",
       "      <td>MIAMI</td>\n",
       "      <td>FL</td>\n",
       "      <td>Meals</td>\n",
       "      <td>0.0</td>\n",
       "      <td>119.0</td>\n",
       "      <td>119.0</td>\n",
       "    </tr>\n",
       "    <tr>\n",
       "      <th>4</th>\n",
       "      <td>ABBO, LILIAN MARGARITA</td>\n",
       "      <td>LILIAN</td>\n",
       "      <td>ABBO</td>\n",
       "      <td>MIAMI</td>\n",
       "      <td>FL</td>\n",
       "      <td>Professional Advising</td>\n",
       "      <td>1800.0</td>\n",
       "      <td>0.0</td>\n",
       "      <td>1800.0</td>\n",
       "    </tr>\n",
       "  </tbody>\n",
       "</table>\n",
       "</div>"
      ],
      "text/plain": [
       "                  org_indiv first_name    last_name         city state  \\\n",
       "0  3-D MEDICAL SERVICES LLC     STEVEN  DEITELZWEIG  NEW ORLEANS    LA   \n",
       "1          AA DOCTORS, INC.     AAKASH        AHUJA  PASO ROBLES    CA   \n",
       "2    ABBO, LILIAN MARGARITA     LILIAN         ABBO        MIAMI    FL   \n",
       "3    ABBO, LILIAN MARGARITA     LILIAN         ABBO        MIAMI    FL   \n",
       "4    ABBO, LILIAN MARGARITA     LILIAN         ABBO        MIAMI    FL   \n",
       "\n",
       "                  category  cash_fine   online_fine   total_fine  \n",
       "0    Professional Advising      2625.0           0.0      2625.0  \n",
       "1        Expert-Led Forums      1000.0           0.0      1000.0  \n",
       "2  Business Related Travel         0.0         448.0       448.0  \n",
       "3                    Meals         0.0         119.0       119.0  \n",
       "4    Professional Advising      1800.0           0.0      1800.0  "
      ]
     },
     "execution_count": 16,
     "metadata": {},
     "output_type": "execute_result"
    }
   ],
   "source": [
    "fines['total_fine'] = fines['online_fine '] + fines['cash_fine ']\n",
    "fines.head()"
   ]
  },
  {
   "cell_type": "markdown",
   "metadata": {},
   "source": [
    "#### Ques-(3) Write a query to get the highest total fine paid per state?"
   ]
  },
  {
   "cell_type": "code",
   "execution_count": 81,
   "metadata": {},
   "outputs": [
    {
     "data": {
      "text/plain": [
       "state\n",
       "FL    1185466.0\n",
       "NC     857698.0\n",
       "PA     672263.0\n",
       "MA     617548.0\n",
       "TX     479314.0\n",
       "CA     323122.0\n",
       "CO     282565.0\n",
       "AL     232991.0\n",
       "UT     224997.0\n",
       "OR     186490.0\n",
       "TN     177786.0\n",
       "MD     171986.0\n",
       "IL     160984.0\n",
       "MI     152466.0\n",
       "AZ     151642.0\n",
       "MN     146623.0\n",
       "KY     137642.0\n",
       "CT     132853.0\n",
       "WI     131863.0\n",
       "IA     123375.0\n",
       "SC     117225.0\n",
       "OH     107292.0\n",
       "GA     101734.0\n",
       "NY     100000.0\n",
       "MO      88302.0\n",
       "NJ      88087.0\n",
       "NH      78000.0\n",
       "AR      77670.0\n",
       "KS      70000.0\n",
       "RI      65278.0\n",
       "DC      62000.0\n",
       "NE      50449.0\n",
       "WA      46660.0\n",
       "LA      42000.0\n",
       "IN      40500.0\n",
       "VA      38102.0\n",
       "PR      20175.0\n",
       "DE      19750.0\n",
       "WV      19500.0\n",
       "NM      18750.0\n",
       "VT      11153.0\n",
       "NV       9200.0\n",
       "MS       8500.0\n",
       "WY       7750.0\n",
       "SD       7750.0\n",
       "OK       7250.0\n",
       "ID       7000.0\n",
       "HI       6500.0\n",
       "ME       6000.0\n",
       "ND       4450.0\n",
       "MT       4350.0\n",
       "AK       1750.0\n",
       "Name: total_fine, dtype: float64"
      ]
     },
     "execution_count": 81,
     "metadata": {},
     "output_type": "execute_result"
    }
   ],
   "source": [
    "fines.groupby(['state']).total_fine.max().sort_values(ascending = False)"
   ]
  },
  {
   "cell_type": "markdown",
   "metadata": {},
   "source": [
    "#### Ques-(4) Write a query to get the lowest total fine paid per state?"
   ]
  },
  {
   "cell_type": "code",
   "execution_count": 19,
   "metadata": {},
   "outputs": [
    {
     "data": {
      "text/plain": [
       "state\n",
       "NC       0.0\n",
       "IL      25.0\n",
       "NE      25.0\n",
       "MN      25.0\n",
       "NJ      25.0\n",
       "PA      25.0\n",
       "NV      25.0\n",
       "NY      25.0\n",
       "OH      25.0\n",
       "GA      25.0\n",
       "TX      25.0\n",
       "WI      25.0\n",
       "FL      25.0\n",
       "CT      25.0\n",
       "CA      25.0\n",
       "DC      25.0\n",
       "IN      26.0\n",
       "KY      26.0\n",
       "SC      26.0\n",
       "IA      26.0\n",
       "MD      26.0\n",
       "AZ      26.0\n",
       "MI      26.0\n",
       "AR      26.0\n",
       "MO      26.0\n",
       "AL      26.0\n",
       "PR      26.0\n",
       "OR      27.0\n",
       "TN      27.0\n",
       "WY      27.0\n",
       "UT      27.0\n",
       "LA      27.0\n",
       "WV      28.0\n",
       "RI      28.0\n",
       "KS      29.0\n",
       "MT      29.0\n",
       "MA      29.0\n",
       "WA      31.0\n",
       "CO      31.0\n",
       "ID      33.0\n",
       "MS      34.0\n",
       "VA      36.0\n",
       "DE      36.0\n",
       "OK      37.0\n",
       "VT      40.0\n",
       "ME      42.0\n",
       "NM      60.0\n",
       "ND      63.0\n",
       "SD      66.0\n",
       "NH      96.0\n",
       "HI     102.0\n",
       "AK    1750.0\n",
       "Name: total_fine, dtype: float64"
      ]
     },
     "execution_count": 19,
     "metadata": {},
     "output_type": "execute_result"
    }
   ],
   "source": [
    "fines.groupby(['state']).total_fine.min().sort_values()"
   ]
  },
  {
   "cell_type": "code",
   "execution_count": 20,
   "metadata": {},
   "outputs": [
    {
     "data": {
      "text/plain": [
       "52"
      ]
     },
     "execution_count": 20,
     "metadata": {},
     "output_type": "execute_result"
    }
   ],
   "source": [
    "# Total no. of unique states\n",
    "fines['state'].nunique()"
   ]
  },
  {
   "cell_type": "markdown",
   "metadata": {},
   "source": [
    "#### Ques-(5) Write a query to get the least 2 states that had to pay minimum 'online' fine?\n",
    "#### Step -1 Change the online_fine and cash_file name to remove extra space at the end"
   ]
  },
  {
   "cell_type": "code",
   "execution_count": 21,
   "metadata": {},
   "outputs": [],
   "source": [
    " fines.rename(columns = {'online_fine ':'online_fine','cash_fine ':'cash_fine'}, inplace = True)"
   ]
  },
  {
   "cell_type": "markdown",
   "metadata": {},
   "source": [
    "#### Ques(5)-Write a query to get the least 2 states that had to pay minimum 'online' fine?\n",
    "#### final result"
   ]
  },
  {
   "cell_type": "code",
   "execution_count": 26,
   "metadata": {},
   "outputs": [
    {
     "data": {
      "text/plain": [
       "state\n",
       "AK      0.0\n",
       "ND    321.0\n",
       "Name: online_fine, dtype: float64"
      ]
     },
     "execution_count": 26,
     "metadata": {},
     "output_type": "execute_result"
    }
   ],
   "source": [
    "fines.groupby(['state']).online_fine.sum().sort_values().head(2)"
   ]
  },
  {
   "cell_type": "code",
   "execution_count": 82,
   "metadata": {},
   "outputs": [
    {
     "data": {
      "text/html": [
       "<div>\n",
       "<style scoped>\n",
       "    .dataframe tbody tr th:only-of-type {\n",
       "        vertical-align: middle;\n",
       "    }\n",
       "\n",
       "    .dataframe tbody tr th {\n",
       "        vertical-align: top;\n",
       "    }\n",
       "\n",
       "    .dataframe thead th {\n",
       "        text-align: right;\n",
       "    }\n",
       "</style>\n",
       "<table border=\"1\" class=\"dataframe\">\n",
       "  <thead>\n",
       "    <tr style=\"text-align: right;\">\n",
       "      <th></th>\n",
       "      <th>org_indiv</th>\n",
       "      <th>first_name</th>\n",
       "      <th>last_name</th>\n",
       "      <th>city</th>\n",
       "      <th>state</th>\n",
       "      <th>category</th>\n",
       "      <th>cash_fine</th>\n",
       "      <th>online_fine</th>\n",
       "      <th>total_fine</th>\n",
       "      <th>full_name</th>\n",
       "    </tr>\n",
       "  </thead>\n",
       "  <tbody>\n",
       "    <tr>\n",
       "      <th>0</th>\n",
       "      <td>3-D MEDICAL SERVICES LLC</td>\n",
       "      <td>STEVEN</td>\n",
       "      <td>DEITELZWEIG</td>\n",
       "      <td>NEW ORLEANS</td>\n",
       "      <td>LA</td>\n",
       "      <td>Professional Advising</td>\n",
       "      <td>2625.0</td>\n",
       "      <td>0.0</td>\n",
       "      <td>2625.0</td>\n",
       "      <td>STEVEN DEITELZWEIG</td>\n",
       "    </tr>\n",
       "    <tr>\n",
       "      <th>1</th>\n",
       "      <td>AA DOCTORS, INC.</td>\n",
       "      <td>AAKASH</td>\n",
       "      <td>AHUJA</td>\n",
       "      <td>PASO ROBLES</td>\n",
       "      <td>CA</td>\n",
       "      <td>Expert-Led Forums</td>\n",
       "      <td>1000.0</td>\n",
       "      <td>0.0</td>\n",
       "      <td>1000.0</td>\n",
       "      <td>AAKASH AHUJA</td>\n",
       "    </tr>\n",
       "    <tr>\n",
       "      <th>2</th>\n",
       "      <td>ABBO, LILIAN MARGARITA</td>\n",
       "      <td>LILIAN</td>\n",
       "      <td>ABBO</td>\n",
       "      <td>MIAMI</td>\n",
       "      <td>FL</td>\n",
       "      <td>Business Related Travel</td>\n",
       "      <td>0.0</td>\n",
       "      <td>448.0</td>\n",
       "      <td>448.0</td>\n",
       "      <td>LILIAN ABBO</td>\n",
       "    </tr>\n",
       "    <tr>\n",
       "      <th>3</th>\n",
       "      <td>ABBO, LILIAN MARGARITA</td>\n",
       "      <td>LILIAN</td>\n",
       "      <td>ABBO</td>\n",
       "      <td>MIAMI</td>\n",
       "      <td>FL</td>\n",
       "      <td>Meals</td>\n",
       "      <td>0.0</td>\n",
       "      <td>119.0</td>\n",
       "      <td>119.0</td>\n",
       "      <td>LILIAN ABBO</td>\n",
       "    </tr>\n",
       "    <tr>\n",
       "      <th>4</th>\n",
       "      <td>ABBO, LILIAN MARGARITA</td>\n",
       "      <td>LILIAN</td>\n",
       "      <td>ABBO</td>\n",
       "      <td>MIAMI</td>\n",
       "      <td>FL</td>\n",
       "      <td>Professional Advising</td>\n",
       "      <td>1800.0</td>\n",
       "      <td>0.0</td>\n",
       "      <td>1800.0</td>\n",
       "      <td>LILIAN ABBO</td>\n",
       "    </tr>\n",
       "  </tbody>\n",
       "</table>\n",
       "</div>"
      ],
      "text/plain": [
       "                  org_indiv first_name    last_name         city state  \\\n",
       "0  3-D MEDICAL SERVICES LLC     STEVEN  DEITELZWEIG  NEW ORLEANS    LA   \n",
       "1          AA DOCTORS, INC.     AAKASH        AHUJA  PASO ROBLES    CA   \n",
       "2    ABBO, LILIAN MARGARITA     LILIAN         ABBO        MIAMI    FL   \n",
       "3    ABBO, LILIAN MARGARITA     LILIAN         ABBO        MIAMI    FL   \n",
       "4    ABBO, LILIAN MARGARITA     LILIAN         ABBO        MIAMI    FL   \n",
       "\n",
       "                  category  cash_fine  online_fine  total_fine  \\\n",
       "0    Professional Advising     2625.0          0.0      2625.0   \n",
       "1        Expert-Led Forums     1000.0          0.0      1000.0   \n",
       "2  Business Related Travel        0.0        448.0       448.0   \n",
       "3                    Meals        0.0        119.0       119.0   \n",
       "4    Professional Advising     1800.0          0.0      1800.0   \n",
       "\n",
       "            full_name  \n",
       "0  STEVEN DEITELZWEIG  \n",
       "1        AAKASH AHUJA  \n",
       "2         LILIAN ABBO  \n",
       "3         LILIAN ABBO  \n",
       "4         LILIAN ABBO  "
      ]
     },
     "execution_count": 82,
     "metadata": {},
     "output_type": "execute_result"
    }
   ],
   "source": [
    "# first create a new column of full name\n",
    "fines['full_name'] = fines['first_name'].map(str) + ' ' + fines['last_name'].map(str)\n",
    "fines.head(5)"
   ]
  },
  {
   "cell_type": "markdown",
   "metadata": {},
   "source": [
    "#### Ques-(6)Write a query to find the number of doctors that contributed to the state having highest 'cash' fine?\n",
    "#### Step-1 find the state that has paid highest cash fine"
   ]
  },
  {
   "cell_type": "code",
   "execution_count": 43,
   "metadata": {},
   "outputs": [
    {
     "data": {
      "text/plain": [
       "state\n",
       "CA    4331517.0\n",
       "Name: cash_fine, dtype: float64"
      ]
     },
     "execution_count": 43,
     "metadata": {},
     "output_type": "execute_result"
    }
   ],
   "source": [
    "state_cash_high = fines.groupby(['state']).cash_fine.sum().sort_values(ascending = False).head(1)\n",
    "state_cash_high"
   ]
  },
  {
   "cell_type": "markdown",
   "metadata": {},
   "source": [
    "#### Ques-(6) Write a query to find the number of doctors that contributed to the state having highest 'cash' fine\n",
    "#### Step-2 we now get that CA has highest 'cash' fine, so now we find no of doctors(unique) whose state is CA"
   ]
  },
  {
   "cell_type": "code",
   "execution_count": 83,
   "metadata": {},
   "outputs": [
    {
     "data": {
      "text/plain": [
       "517"
      ]
     },
     "execution_count": 83,
     "metadata": {},
     "output_type": "execute_result"
    }
   ],
   "source": [
    "no_of_doctors = fines.loc[fines['state'] == 'CA'].full_name.nunique()\n",
    "no_of_doctors"
   ]
  },
  {
   "cell_type": "markdown",
   "metadata": {},
   "source": [
    "#### Ques-(7) Print Top 5 average fine paid per state?"
   ]
  },
  {
   "cell_type": "code",
   "execution_count": 72,
   "metadata": {},
   "outputs": [
    {
     "data": {
      "text/plain": [
       "state\n",
       "MA    6813.787645\n",
       "NH    6384.037037\n",
       "CO    6184.040541\n",
       "NC    6079.464752\n",
       "OR    5236.896552\n",
       "Name: total_fine, dtype: float64"
      ]
     },
     "execution_count": 72,
     "metadata": {},
     "output_type": "execute_result"
    }
   ],
   "source": [
    "top_five_states = fines.groupby(['state']).total_fine.mean().sort_values(ascending = False).head(5)\n",
    "top_five_states"
   ]
  },
  {
   "cell_type": "markdown",
   "metadata": {},
   "source": [
    "#### Ques-(8) Print Top 5 average fine paid per category?"
   ]
  },
  {
   "cell_type": "code",
   "execution_count": 73,
   "metadata": {},
   "outputs": [
    {
     "data": {
      "text/plain": [
       "category\n",
       "Infosys Sponsored Research initiated on or after July 1, 2009    65838.886364\n",
       "Infosys Sponsored Research initiated before July 1, 2009         54864.896552\n",
       "Investigator-Initiated Research                                  42407.500000\n",
       "Professional Advising                                             4963.692459\n",
       "Expert-Led Forums                                                 3375.558278\n",
       "Name: total_fine, dtype: float64"
      ]
     },
     "execution_count": 73,
     "metadata": {},
     "output_type": "execute_result"
    }
   ],
   "source": [
    "top_five_category = fines.groupby(['category']).total_fine.mean().sort_values(ascending = False).head(5)\n",
    "top_five_category"
   ]
  },
  {
   "cell_type": "markdown",
   "metadata": {},
   "source": [
    "#### Quse-(9) Print Name of doctors with lowest fine paid?"
   ]
  },
  {
   "cell_type": "code",
   "execution_count": 84,
   "metadata": {},
   "outputs": [
    {
     "data": {
      "text/html": [
       "<div>\n",
       "<style scoped>\n",
       "    .dataframe tbody tr th:only-of-type {\n",
       "        vertical-align: middle;\n",
       "    }\n",
       "\n",
       "    .dataframe tbody tr th {\n",
       "        vertical-align: top;\n",
       "    }\n",
       "\n",
       "    .dataframe thead th {\n",
       "        text-align: right;\n",
       "    }\n",
       "</style>\n",
       "<table border=\"1\" class=\"dataframe\">\n",
       "  <thead>\n",
       "    <tr style=\"text-align: right;\">\n",
       "      <th></th>\n",
       "      <th>cash_fine</th>\n",
       "      <th>online_fine</th>\n",
       "      <th>total_fine</th>\n",
       "    </tr>\n",
       "    <tr>\n",
       "      <th>full_name</th>\n",
       "      <th></th>\n",
       "      <th></th>\n",
       "      <th></th>\n",
       "    </tr>\n",
       "  </thead>\n",
       "  <tbody>\n",
       "    <tr>\n",
       "      <th>LARRY GOLDSTEIN</th>\n",
       "      <td>0.0</td>\n",
       "      <td>0.0</td>\n",
       "      <td>0.0</td>\n",
       "    </tr>\n",
       "    <tr>\n",
       "      <th>THOMAS HERZOG</th>\n",
       "      <td>500.0</td>\n",
       "      <td>0.0</td>\n",
       "      <td>500.0</td>\n",
       "    </tr>\n",
       "    <tr>\n",
       "      <th>MICHAEL RAGGIO</th>\n",
       "      <td>0.0</td>\n",
       "      <td>500.0</td>\n",
       "      <td>500.0</td>\n",
       "    </tr>\n",
       "    <tr>\n",
       "      <th>RALPH BHARATI</th>\n",
       "      <td>500.0</td>\n",
       "      <td>0.0</td>\n",
       "      <td>500.0</td>\n",
       "    </tr>\n",
       "    <tr>\n",
       "      <th>RALPH COLEMAN</th>\n",
       "      <td>500.0</td>\n",
       "      <td>0.0</td>\n",
       "      <td>500.0</td>\n",
       "    </tr>\n",
       "  </tbody>\n",
       "</table>\n",
       "</div>"
      ],
      "text/plain": [
       "                 cash_fine  online_fine  total_fine\n",
       "full_name                                          \n",
       "LARRY GOLDSTEIN        0.0          0.0         0.0\n",
       "THOMAS HERZOG        500.0          0.0       500.0\n",
       "MICHAEL RAGGIO         0.0        500.0       500.0\n",
       "RALPH BHARATI        500.0          0.0       500.0\n",
       "RALPH COLEMAN        500.0          0.0       500.0"
      ]
     },
     "execution_count": 84,
     "metadata": {},
     "output_type": "execute_result"
    }
   ],
   "source": [
    "#exploratory data analysis extra - (doctors with lowest fines paid)\n",
    "doctor_lowest = fines.groupby(['full_name']).sum().sort_values('total_fine').head()\n",
    "doctor_lowest"
   ]
  }
 ],
 "metadata": {
  "kernelspec": {
   "display_name": "Python 3",
   "language": "python",
   "name": "python3"
  },
  "language_info": {
   "codemirror_mode": {
    "name": "ipython",
    "version": 3
   },
   "file_extension": ".py",
   "mimetype": "text/x-python",
   "name": "python",
   "nbconvert_exporter": "python",
   "pygments_lexer": "ipython3",
   "version": "3.7.6"
  }
 },
 "nbformat": 4,
 "nbformat_minor": 4
}
